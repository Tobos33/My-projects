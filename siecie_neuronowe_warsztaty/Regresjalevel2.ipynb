{
 "cells": [
  {
   "cell_type": "code",
   "execution_count": 1,
   "metadata": {},
   "outputs": [],
   "source": [
    "import numpy as np\n",
    "import matplotlib.pyplot as plt"
   ]
  },
  {
   "cell_type": "code",
   "execution_count": 60,
   "metadata": {},
   "outputs": [
    {
     "name": "stdout",
     "output_type": "stream",
     "text": [
      "[1.         0.0459881  0.0459881  0.49192732 1.         1.\n",
      " 1.         0.49192732]\n"
     ]
    }
   ],
   "source": [
    "def forward(w, b, x):\n",
    "    z = np.sum(x*w, 1) + b\n",
    "    s = 1/(1+np.exp(-z))\n",
    "    return s\n",
    "\n",
    "def mse(y, yp):\n",
    "    return np.mean((y-yp)**2)\n",
    "\n",
    "def gradient_w(xi,y,yp):\n",
    "    dLdyp = 2*(yp - y)\n",
    "    dypdz = yp*(1-yp)\n",
    "    dzdw = xi\n",
    "    dLdw = 2*np.mean(dLdyp*dypdz*dzdw)\n",
    "    return dLdw\n",
    "\n",
    "def gradient_b(y,yp):\n",
    "    dLdyp = 2*(yp - y)\n",
    "    dypdz = yp*(1-yp)\n",
    "    dLdb = 2*np.mean(dLdyp*dypdz)\n",
    "    return dLdb\n",
    "\n",
    "X = np.array([\n",
    "    [1,0,1],#2\n",
    "    [0,0,0],\n",
    "    [0,1,0],\n",
    "    [0,0,1],\n",
    "    [1,1,1],\n",
    "    [1,0,0],\n",
    "    [1,1,0],#2\n",
    "    [0,1,1],#2\n",
    "    ])\n",
    "y = np.array([1, 0, 0, 0, 0, 0, 1, 1])\n",
    "\n",
    "w = np.array([40,0,10])\n",
    "b = 0\n",
    "alfa = 10\n",
    "\n",
    "for epoch in range(100):\n",
    "    yp = forward(w, b, X)\n",
    "    L = mse(y, yp)\n",
    "\n",
    "    w[0] = w[0]-alfa*gradient_w(X[:,0],y,yp)\n",
    "    w[1] = w[1]-alfa*gradient_w(X[:,1],y,yp)\n",
    "    w[2] = w[2]-alfa*gradient_w(X[:,2],y,yp)\n",
    "\n",
    "    b = b-alfa*gradient_b(y,yp)\n",
    "    \n",
    "print(yp)"
   ]
  },
  {
   "cell_type": "code",
   "execution_count": 3,
   "metadata": {},
   "outputs": [
    {
     "data": {
      "text/plain": [
       "array([1, 0, 1, 0, 0, 0, 1, 1])"
      ]
     },
     "execution_count": 3,
     "metadata": {},
     "output_type": "execute_result"
    }
   ],
   "source": [
    "y"
   ]
  },
  {
   "cell_type": "code",
   "execution_count": 6,
   "metadata": {},
   "outputs": [
    {
     "name": "stdout",
     "output_type": "stream",
     "text": [
      "[0.40817934 0.40817934 0.40817934 0.40817934 0.65214994 0.40817934\n",
      " 0.65214994 0.65214994]\n"
     ]
    }
   ],
   "source": [
    "print(yp)"
   ]
  },
  {
   "cell_type": "code",
   "execution_count": null,
   "metadata": {},
   "outputs": [],
   "source": [
    "x = np.linspace(-5, 5, 1000)\n",
    "sig = 1/(1+np.exp(-x))\n",
    "plt.plot(x, sig)"
   ]
  }
 ],
 "metadata": {
  "kernelspec": {
   "display_name": "Python 3",
   "language": "python",
   "name": "python3"
  },
  "language_info": {
   "codemirror_mode": {
    "name": "ipython",
    "version": 3
   },
   "file_extension": ".py",
   "mimetype": "text/x-python",
   "name": "python",
   "nbconvert_exporter": "python",
   "pygments_lexer": "ipython3",
   "version": "3.12.0"
  }
 },
 "nbformat": 4,
 "nbformat_minor": 2
}
