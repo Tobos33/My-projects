{
 "cells": [
  {
   "cell_type": "code",
   "execution_count": 1,
   "metadata": {},
   "outputs": [],
   "source": [
    "import numpy as np\n",
    "import matplotlib.pyplot as plt\n",
    "from sklearn.neural_network import MLPRegressor"
   ]
  },
  {
   "cell_type": "code",
   "execution_count": null,
   "metadata": {},
   "outputs": [
    {
     "ename": "NameError",
     "evalue": "name 'X' is not defined",
     "output_type": "error",
     "traceback": [
      "\u001b[1;31m---------------------------------------------------------------------------\u001b[0m",
      "\u001b[1;31mNameError\u001b[0m                                 Traceback (most recent call last)",
      "Cell \u001b[1;32mIn[14], line 17\u001b[0m\n\u001b[0;32m     14\u001b[0m idx_v \u001b[38;5;241m=\u001b[39m idx[\u001b[38;5;241m25\u001b[39m:]\n\u001b[0;32m     16\u001b[0m np\u001b[38;5;241m.\u001b[39mrandom\u001b[38;5;241m.\u001b[39mshuffle(idx)\n\u001b[1;32m---> 17\u001b[0m Xt \u001b[38;5;241m=\u001b[39m \u001b[43mX\u001b[49m[idx_t]\n\u001b[0;32m     18\u001b[0m Xv \u001b[38;5;241m=\u001b[39m X[idx_v]\n\u001b[0;32m     20\u001b[0m yt \u001b[38;5;241m=\u001b[39m y[idx_t]\n",
      "\u001b[1;31mNameError\u001b[0m: name 'X' is not defined"
     ]
    }
   ],
   "source": [
    "file = open(\"C:/Users/pawko/OneDrive/Pulpit/python/siecie_neuronowe_warsztaty/superconductors_chem.csv\")\n",
    "lines = file.readlines()[1:]\n",
    "file.close\n",
    "\n",
    "dane = np.array([l.split(',')[:-2] for l in lines], dtype=float)\n",
    "temperatura = np.array([l.split(',')[-2] for l in lines], dtype=float)\n",
    "nazwa = np.array([l.split(',')[-1] for l in lines])\n",
    "\n",
    "idx = np.array([i for i in range(len(nazwa)) if 'Ba' in nazwa[i]])\n",
    "temperatura[idx]\n",
    "nazwa[idx]\n",
    "\n",
    "idx_t = idx[:25]\n",
    "idx_v = idx[25:]\n",
    "\n",
    "np.random.shuffle(idx)\n",
    "Xt = x[idx_t]\n",
    "Xv = X[idx_v]\n",
    "\n",
    "yt = y[idx_t]\n",
    "yv = y[idx_v]\n",
    "\n",
    "regr = MLPRegressor(hidden_layer_sizes=(10), random_state=2, max_iter=2000, learning_rate_init=.1, activation='logistic', solver='sgd',)\n",
    "regr.fit(Xt, yt)\n",
    "ytp = regr.predict(Xt)\n",
    "yvp = regr.predict(Xv)"
   ]
  },
  {
   "cell_type": "code",
   "execution_count": 12,
   "metadata": {},
   "outputs": [],
   "source": [
    "idx = np.array([i for i in range(len(nazwa)) if 'Ba' in nazwa[i]])"
   ]
  }
 ],
 "metadata": {
  "kernelspec": {
   "display_name": "Python 3",
   "language": "python",
   "name": "python3"
  },
  "language_info": {
   "codemirror_mode": {
    "name": "ipython",
    "version": 3
   },
   "file_extension": ".py",
   "mimetype": "text/x-python",
   "name": "python",
   "nbconvert_exporter": "python",
   "pygments_lexer": "ipython3",
   "version": "3.12.0"
  }
 },
 "nbformat": 4,
 "nbformat_minor": 2
}
